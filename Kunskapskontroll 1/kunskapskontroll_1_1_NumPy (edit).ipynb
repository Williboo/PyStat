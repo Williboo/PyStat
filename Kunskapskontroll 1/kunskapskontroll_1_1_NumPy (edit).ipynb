{
 "cells": [
  {
   "cell_type": "markdown",
   "id": "dacf74e6",
   "metadata": {},
   "source": [
    "# NumPy"
   ]
  },
  {
   "cell_type": "markdown",
   "id": "01b2bf34",
   "metadata": {},
   "source": [
    "Read the links: https://numpy.org/doc/stable/user/quickstart.html  and https://numpy.org/doc/stable/user/basics.broadcasting.html  before solving the exercises. "
   ]
  },
  {
   "cell_type": "code",
   "execution_count": 9,
   "id": "1f79e4a6",
   "metadata": {},
   "outputs": [],
   "source": [
    "import numpy as np"
   ]
  },
  {
   "cell_type": "markdown",
   "id": "7dae6889",
   "metadata": {},
   "source": [
    "### Print out the dimension (number of axes), shape, size and the datatype of the matrix A."
   ]
  },
  {
   "cell_type": "code",
   "execution_count": 2,
   "id": "7b3678cd",
   "metadata": {},
   "outputs": [],
   "source": [
    "A = np.arange(1, 16).reshape(3,5)"
   ]
  },
  {
   "cell_type": "code",
   "execution_count": 3,
   "id": "31d39235",
   "metadata": {},
   "outputs": [
    {
     "data": {
      "text/plain": [
       "2"
      ]
     },
     "execution_count": 3,
     "metadata": {},
     "output_type": "execute_result"
    }
   ],
   "source": [
    "# print dimension\n",
    "A.ndim"
   ]
  },
  {
   "cell_type": "code",
   "execution_count": 4,
   "id": "4a2fb675",
   "metadata": {},
   "outputs": [
    {
     "data": {
      "text/plain": [
       "(3, 5)"
      ]
     },
     "execution_count": 4,
     "metadata": {},
     "output_type": "execute_result"
    }
   ],
   "source": [
    "# print shape\n",
    "A.shape"
   ]
  },
  {
   "cell_type": "code",
   "execution_count": 7,
   "id": "e7bd4077",
   "metadata": {},
   "outputs": [
    {
     "data": {
      "text/plain": [
       "4"
      ]
     },
     "execution_count": 7,
     "metadata": {},
     "output_type": "execute_result"
    }
   ],
   "source": [
    "# print size\n",
    "A.itemsize"
   ]
  },
  {
   "cell_type": "code",
   "execution_count": 6,
   "id": "40b7605b",
   "metadata": {},
   "outputs": [
    {
     "data": {
      "text/plain": [
       "'int32'"
      ]
     },
     "execution_count": 6,
     "metadata": {},
     "output_type": "execute_result"
    }
   ],
   "source": [
    "# print datatype\n",
    "A.dtype.name"
   ]
  },
  {
   "cell_type": "markdown",
   "id": "e56d2a96",
   "metadata": {},
   "source": [
    "### Do the following computations on the matrices B and C: \n",
    "* Elementwise subtraction. \n",
    "* Elementwise multiplication. \n",
    "* Matrix multiplication (by default you should use the @ operator)."
   ]
  },
  {
   "cell_type": "code",
   "execution_count": 8,
   "id": "a7053fbb",
   "metadata": {},
   "outputs": [
    {
     "name": "stdout",
     "output_type": "stream",
     "text": [
      "[[1 2 3]\n",
      " [4 5 6]\n",
      " [7 8 9]]\n",
      "\n",
      "[[2. 2. 2.]\n",
      " [2. 2. 2.]\n",
      " [2. 2. 2.]]\n"
     ]
    }
   ],
   "source": [
    "B = np.arange(1, 10).reshape(3, 3)\n",
    "C = np.ones((3, 3))*2\n",
    "\n",
    "print(B)\n",
    "print()\n",
    "print(C)"
   ]
  },
  {
   "cell_type": "code",
   "execution_count": 22,
   "id": "3cd794ae",
   "metadata": {},
   "outputs": [
    {
     "data": {
      "text/plain": [
       "array([[-1.,  0.,  1.],\n",
       "       [ 2.,  3.,  4.],\n",
       "       [ 5.,  6.,  7.]])"
      ]
     },
     "execution_count": 22,
     "metadata": {},
     "output_type": "execute_result"
    }
   ],
   "source": [
    "# elementwise subtraction\n",
    "B - C"
   ]
  },
  {
   "cell_type": "code",
   "execution_count": 23,
   "id": "5643c794",
   "metadata": {},
   "outputs": [
    {
     "data": {
      "text/plain": [
       "array([[ 2.,  4.,  6.],\n",
       "       [ 8., 10., 12.],\n",
       "       [14., 16., 18.]])"
      ]
     },
     "execution_count": 23,
     "metadata": {},
     "output_type": "execute_result"
    }
   ],
   "source": [
    "# elementwise multipication\n",
    "B * C"
   ]
  },
  {
   "cell_type": "code",
   "execution_count": 39,
   "id": "f7874464",
   "metadata": {},
   "outputs": [
    {
     "data": {
      "text/plain": [
       "array([[12., 12., 12.],\n",
       "       [30., 30., 30.],\n",
       "       [48., 48., 48.]])"
      ]
     },
     "execution_count": 39,
     "metadata": {},
     "output_type": "execute_result"
    }
   ],
   "source": [
    "# matrix multiplication\n",
    "B @ C"
   ]
  },
  {
   "cell_type": "markdown",
   "id": "96030d53",
   "metadata": {},
   "source": [
    "### Do the following calculations on the matrix:\n",
    "* Exponentiate each number elementwise (use the np.exp function).\n",
    "\n",
    "* Calculate the minimum value in the whole matrix. \n",
    "* Calculcate the minimum value in each row. \n",
    "* Calculcate the minimum value in each column. \n",
    "\n",
    "\n",
    "* Find the index value for the minimum value in the whole matrix (hint: use np.argmin).\n",
    "* Find the index value for the minimum value in each row (hint: use np.argmin).\n",
    "\n",
    "\n",
    "* Calculate the sum for all elements.\n",
    "* Calculate the mean for each column. \n",
    "* Calculate the median for each column. "
   ]
  },
  {
   "cell_type": "code",
   "execution_count": 40,
   "id": "f8a9166b",
   "metadata": {},
   "outputs": [
    {
     "name": "stdout",
     "output_type": "stream",
     "text": [
      "[[1 2 3]\n",
      " [4 5 6]\n",
      " [7 8 9]]\n"
     ]
    }
   ],
   "source": [
    "B = np.arange(1, 10).reshape(3, 3)\n",
    "print(B)"
   ]
  },
  {
   "cell_type": "code",
   "execution_count": 45,
   "id": "f03f24f7",
   "metadata": {},
   "outputs": [
    {
     "data": {
      "text/plain": [
       "array([[2.71828183e+00, 7.38905610e+00, 2.00855369e+01],\n",
       "       [5.45981500e+01, 1.48413159e+02, 4.03428793e+02],\n",
       "       [1.09663316e+03, 2.98095799e+03, 8.10308393e+03]])"
      ]
     },
     "execution_count": 45,
     "metadata": {},
     "output_type": "execute_result"
    }
   ],
   "source": [
    "# elementwise exponent\n",
    "np.exp(B)"
   ]
  },
  {
   "cell_type": "code",
   "execution_count": 49,
   "id": "0725e6f4",
   "metadata": {},
   "outputs": [
    {
     "data": {
      "text/plain": [
       "1"
      ]
     },
     "execution_count": 49,
     "metadata": {},
     "output_type": "execute_result"
    }
   ],
   "source": [
    "# calc min value in matrix\n",
    "B.min()"
   ]
  },
  {
   "cell_type": "code",
   "execution_count": 52,
   "id": "a6aa7f27",
   "metadata": {},
   "outputs": [
    {
     "data": {
      "text/plain": [
       "array([1, 4, 7])"
      ]
     },
     "execution_count": 52,
     "metadata": {},
     "output_type": "execute_result"
    }
   ],
   "source": [
    "# calc min of each row \n",
    "B.min(axis=1)"
   ]
  },
  {
   "cell_type": "code",
   "execution_count": 53,
   "id": "34ec8e62",
   "metadata": {},
   "outputs": [
    {
     "data": {
      "text/plain": [
       "array([1, 2, 3])"
      ]
     },
     "execution_count": 53,
     "metadata": {},
     "output_type": "execute_result"
    }
   ],
   "source": [
    "# calc min of each column\n",
    "B.min(axis=0)"
   ]
  },
  {
   "cell_type": "code",
   "execution_count": 54,
   "id": "17ec7794",
   "metadata": {},
   "outputs": [
    {
     "data": {
      "text/plain": [
       "0"
      ]
     },
     "execution_count": 54,
     "metadata": {},
     "output_type": "execute_result"
    }
   ],
   "source": [
    "# find index value for min value in matrix\n",
    "np.argmin(B)"
   ]
  },
  {
   "cell_type": "code",
   "execution_count": 56,
   "id": "26a3e915",
   "metadata": {},
   "outputs": [
    {
     "data": {
      "text/plain": [
       "array([0, 0, 0], dtype=int64)"
      ]
     },
     "execution_count": 56,
     "metadata": {},
     "output_type": "execute_result"
    }
   ],
   "source": [
    "# find index value for min value in each row\n",
    "np.argmin(B, axis=0)"
   ]
  },
  {
   "cell_type": "code",
   "execution_count": 57,
   "id": "0a307b0f",
   "metadata": {},
   "outputs": [
    {
     "data": {
      "text/plain": [
       "45"
      ]
     },
     "execution_count": 57,
     "metadata": {},
     "output_type": "execute_result"
    }
   ],
   "source": [
    "# calc sum for all elements\n",
    "B.sum()"
   ]
  },
  {
   "cell_type": "code",
   "execution_count": 60,
   "id": "0184d225",
   "metadata": {},
   "outputs": [
    {
     "data": {
      "text/plain": [
       "array([2., 5., 8.])"
      ]
     },
     "execution_count": 60,
     "metadata": {},
     "output_type": "execute_result"
    }
   ],
   "source": [
    "# calc mean for each column\n",
    "np.mean(B, axis=1)"
   ]
  },
  {
   "cell_type": "code",
   "execution_count": 61,
   "id": "28dc7436",
   "metadata": {},
   "outputs": [
    {
     "data": {
      "text/plain": [
       "array([2., 5., 8.])"
      ]
     },
     "execution_count": 61,
     "metadata": {},
     "output_type": "execute_result"
    }
   ],
   "source": [
    "# cal median for each column\n",
    "np.median(B, axis=1)"
   ]
  },
  {
   "cell_type": "markdown",
   "id": "541eb7ba",
   "metadata": {},
   "source": [
    "### What does it mean when you provide fewer indices than axes when slicing? See example below."
   ]
  },
  {
   "cell_type": "code",
   "execution_count": 62,
   "id": "9c8abf56",
   "metadata": {},
   "outputs": [
    {
     "name": "stdout",
     "output_type": "stream",
     "text": [
      "[[ 1  2  3  4  5]\n",
      " [ 6  7  8  9 10]\n",
      " [11 12 13 14 15]]\n"
     ]
    }
   ],
   "source": [
    "print(A)"
   ]
  },
  {
   "cell_type": "code",
   "execution_count": 67,
   "id": "69415f7b",
   "metadata": {},
   "outputs": [
    {
     "data": {
      "text/plain": [
       "array([ 6,  7,  8,  9, 10])"
      ]
     },
     "execution_count": 67,
     "metadata": {},
     "output_type": "execute_result"
    }
   ],
   "source": [
    "A[1]"
   ]
  },
  {
   "cell_type": "markdown",
   "id": "6c53541b",
   "metadata": {},
   "source": [
    "**Answer:**"
   ]
  },
  {
   "cell_type": "markdown",
   "id": "de01e120",
   "metadata": {},
   "source": [
    "The missing indices are considered complete slices."
   ]
  },
  {
   "cell_type": "markdown",
   "id": "6652d0c9",
   "metadata": {},
   "source": [
    "### Iterating over multidimensional arrays is done with respect to the first axis, so in the example below we iterate trough the rows. If you would like to iterate through the array *elementwise*, how would you do that?"
   ]
  },
  {
   "cell_type": "code",
   "execution_count": 68,
   "id": "9459864f",
   "metadata": {},
   "outputs": [
    {
     "data": {
      "text/plain": [
       "array([[ 1,  2,  3,  4,  5],\n",
       "       [ 6,  7,  8,  9, 10],\n",
       "       [11, 12, 13, 14, 15]])"
      ]
     },
     "execution_count": 68,
     "metadata": {},
     "output_type": "execute_result"
    }
   ],
   "source": [
    "A"
   ]
  },
  {
   "cell_type": "code",
   "execution_count": 69,
   "id": "a671bb5a",
   "metadata": {},
   "outputs": [
    {
     "name": "stdout",
     "output_type": "stream",
     "text": [
      "[1 2 3 4 5]\n",
      "[ 6  7  8  9 10]\n",
      "[11 12 13 14 15]\n"
     ]
    }
   ],
   "source": [
    "for i in A:\n",
    "    print(i)"
   ]
  },
  {
   "cell_type": "code",
   "execution_count": 73,
   "id": "f4e443a0",
   "metadata": {},
   "outputs": [
    {
     "name": "stdout",
     "output_type": "stream",
     "text": [
      "1\n",
      "2\n",
      "3\n",
      "4\n",
      "5\n",
      "6\n",
      "7\n",
      "8\n",
      "9\n",
      "10\n",
      "11\n",
      "12\n",
      "13\n",
      "14\n",
      "15\n"
     ]
    }
   ],
   "source": [
    "# iterating through the array elementwise\n",
    "for element in A.flat:\n",
    "    print(element)"
   ]
  },
  {
   "cell_type": "markdown",
   "id": "608a2583",
   "metadata": {},
   "source": [
    "### Explain what the code below does. More specifically, b has three axes - what does this mean? "
   ]
  },
  {
   "cell_type": "code",
   "execution_count": 83,
   "id": "f8f9b26f",
   "metadata": {},
   "outputs": [
    {
     "name": "stdout",
     "output_type": "stream",
     "text": [
      "[ 0  1  2  3  4  5  6  7  8  9 10 11 12 13 14 15 16 17 18 19 20 21 22 23\n",
      " 24 25 26 27 28 29]\n",
      "\n",
      "[[[ 0  1  2  3  4]\n",
      "  [ 5  6  7  8  9]\n",
      "  [10 11 12 13 14]]\n",
      "\n",
      " [[15 16 17 18 19]\n",
      "  [20 21 22 23 24]\n",
      "  [25 26 27 28 29]]]\n"
     ]
    }
   ],
   "source": [
    "a = np.arange(30)\n",
    "b = a.reshape((2, 3, -1))\n",
    "print(a)\n",
    "print()\n",
    "\n",
    "print(b)"
   ]
  },
  {
   "cell_type": "markdown",
   "id": "0c254e7d",
   "metadata": {},
   "source": [
    "### Answer: "
   ]
  },
  {
   "cell_type": "markdown",
   "id": "8f4a8436",
   "metadata": {},
   "source": [
    "Variabel: \"a\" creates a 1 dimensional array with 30 elements. \n",
    "\n",
    "Variabel: \"b\" calls a function and reshapes the array from the specified tupple ((2, 3, -1)).\n",
    "\n",
    " 2: 2 layers\n",
    "\n",
    " 3: 3 rows\n",
    "\n",
    "-1: 5 columns. -1 tells numpy to automatically calculate the third dimension based on the total numbers of elements.\n",
    "To calc it: 30/(2x3) = 5\n",
    "\n",
    "3 axes array usually means that it has 3 dimensions. \n",
    "\n",
    "1. depth or z\n",
    "2. row or x\n",
    "3. column or y\n",
    "\n",
    "While x, y, z can be visualized in a cordinate system. "
   ]
  },
  {
   "cell_type": "markdown",
   "id": "ab5933d5",
   "metadata": {},
   "source": [
    "### Broadcasting\n",
    "**Read the following link about broadcasting: https://numpy.org/doc/stable/user/basics.broadcasting.html#basics-broadcasting**"
   ]
  },
  {
   "cell_type": "markdown",
   "id": "039805ba",
   "metadata": {},
   "source": [
    "# Remark on Broadcasting when doing Linear Algebra calculations in Python. "
   ]
  },
  {
   "cell_type": "markdown",
   "id": "c4bcc147",
   "metadata": {},
   "source": [
    "### From the mathematical rules of matrix addition, the operation below (m1 + m2) does not make sense. The reason is that matrix addition requires two matrices of the same size. In Python however, it works due to broadcasting rules in NumPy. So you must be careful when doing Linear Algebra calculations in Python since they do not follow the \"mathematical rules\". This can however easily be handled by doing some simple programming, for example validating that two matrices have the same shape is easy if you for instance want to add two matrices. "
   ]
  },
  {
   "cell_type": "code",
   "execution_count": 84,
   "id": "1fd46778",
   "metadata": {},
   "outputs": [
    {
     "name": "stdout",
     "output_type": "stream",
     "text": [
      "[[2 3]\n",
      " [4 5]]\n"
     ]
    }
   ],
   "source": [
    "m1 = np.array([[1, 2], [3, 4]])\n",
    "m2 = np.array([1, 1])\n",
    "print(m1 + m2)"
   ]
  },
  {
   "cell_type": "markdown",
   "id": "047d6576",
   "metadata": {},
   "source": [
    "### The example below would also not be allowed if following the \"mathematical rules\" in Linear Algebra. But it works due to broadcasting in NumPy. "
   ]
  },
  {
   "cell_type": "code",
   "execution_count": 85,
   "id": "5e6ef2e4",
   "metadata": {},
   "outputs": [
    {
     "name": "stdout",
     "output_type": "stream",
     "text": [
      "[2 3 4]\n"
     ]
    }
   ],
   "source": [
    "v1 = np.array([1, 2, 3])\n",
    "print(v1 + 1)"
   ]
  },
  {
   "cell_type": "code",
   "execution_count": 87,
   "id": "e2cbae26",
   "metadata": {},
   "outputs": [
    {
     "name": "stdout",
     "output_type": "stream",
     "text": [
      "[[1 2]\n",
      " [3 4]]\n",
      "[2 2]\n"
     ]
    }
   ],
   "source": [
    "A = np.arange(1, 5).reshape(2,2)\n",
    "print(A)\n",
    "\n",
    "b = np.array([2, 2])\n",
    "print(b)"
   ]
  },
  {
   "cell_type": "markdown",
   "id": "722fd5cd",
   "metadata": {},
   "source": [
    "# Vector- and matrix algebra Exercises"
   ]
  },
  {
   "cell_type": "markdown",
   "id": "b63a3081-d976-4d9f-bfd0-a63917e79f7d",
   "metadata": {},
   "source": [
    "**Now you are going to create a function that can be reused every time you add or multiply matrices. The function is created so that we do the addition and multiplication according to the rules of vector- and matrix algebra.**\n",
    "\n",
    "**Create a function \"add_mult_matrices\" that takes two matrices as input arguments (validate that the input are of the type numpy.ndarray by using the isinstance function), a third argument that is either 'add' or 'multiply' that specifies if you want to add or multiply the matrices (validate that the third argument is either 'add' or 'multiply'). When doing matrix addition, validate that the matrices have the same size. When doing matrix multiplication, validate that the sizes conform (i.e. number of columns in the first matrix is equal to the number of rows in the second matrix).**"
   ]
  },
  {
   "cell_type": "code",
   "execution_count": 16,
   "id": "3506f977-ac0a-473f-85bc-eec9f35dc498",
   "metadata": {},
   "outputs": [
    {
     "name": "stdout",
     "output_type": "stream",
     "text": [
      "Addition result:\n",
      " [[ 6  8]\n",
      " [10 12]]\n",
      "Multiplication result:\n",
      " [[19 22]\n",
      " [43 50]]\n"
     ]
    }
   ],
   "source": [
    "def add_mult_matrices(a, b, operation):\n",
    "    \n",
    "    # Check if numpy array\n",
    "    if not isinstance(a, np.ndarray) or not isinstance(b, np.ndarray):\n",
    "        raise ValueError(\"a and b must be numpy arrays\")\n",
    "    \n",
    "    # Check for operation\n",
    "    if operation not in [\"add\", \"multiply\"]:\n",
    "        raise ValueError(\"Operation must be either add or multiply\")\n",
    "    \n",
    "    # Addition\n",
    "    if operation == \"add\":\n",
    "        if a.shape != b.shape:\n",
    "            raise ValueError(\"matrices must be the same size\")\n",
    "        return a + b \n",
    "    \n",
    "    # Multiply\n",
    "    elif operation == \"multiply\":\n",
    "        if a.shape[1] != b.shape[0]:\n",
    "            raise ValueError(\"A column must be equal to B rows\")\n",
    "        return np.dot(a, b)\n",
    "\n",
    "a = np.array([[1, 2], [3, 4]])\n",
    "b = np.array([[5, 6], [7, 8]])\n",
    "\n",
    "try:\n",
    "    result_add = add_mult_matrices(a, b, \"add\")\n",
    "    print(\"Addition result:\\n\", result_add)\n",
    "\n",
    "    result_multiply = add_mult_matrices(a, b, \"multiply\")\n",
    "    print(\"Multiplication result:\\n\", result_multiply)\n",
    "\n",
    "except ValueError as error:\n",
    "    print(error)"
   ]
  },
  {
   "cell_type": "markdown",
   "id": "8dad82d0-2359-4dff-8f5b-a57d3e34103c",
   "metadata": {},
   "source": [
    "### Solve all the exercises in chapter 10.1 in the book \"Matematik för yrkeshögskolan\". "
   ]
  },
  {
   "cell_type": "markdown",
   "id": "84f4c53b",
   "metadata": {},
   "source": [
    "### 10.1.1"
   ]
  },
  {
   "cell_type": "code",
   "execution_count": 21,
   "id": "89df88af-3668-4d98-a0a4-e6d92eea0f89",
   "metadata": {},
   "outputs": [
    {
     "data": {
      "text/plain": [
       "1"
      ]
     },
     "execution_count": 21,
     "metadata": {},
     "output_type": "execute_result"
    }
   ],
   "source": [
    "# a\n",
    "x = np.arange(4,3)\n",
    "x.ndim"
   ]
  },
  {
   "cell_type": "code",
   "execution_count": 24,
   "id": "f74b10e0",
   "metadata": {},
   "outputs": [
    {
     "name": "stdout",
     "output_type": "stream",
     "text": [
      "[20 15]\n"
     ]
    }
   ],
   "source": [
    "# b\n",
    "x = np.array([4,3])\n",
    "result = 5 * x\n",
    "print(result)"
   ]
  },
  {
   "cell_type": "code",
   "execution_count": 25,
   "id": "293be328",
   "metadata": {},
   "outputs": [
    {
     "name": "stdout",
     "output_type": "stream",
     "text": [
      "[12  9]\n"
     ]
    }
   ],
   "source": [
    "# c\n",
    "x = np.array([4,3])\n",
    "result = 3*x\n",
    "print(result)"
   ]
  },
  {
   "cell_type": "code",
   "execution_count": 27,
   "id": "ee1c3609",
   "metadata": {},
   "outputs": [
    {
     "name": "stdout",
     "output_type": "stream",
     "text": [
      "[32 24]\n"
     ]
    }
   ],
   "source": [
    "# d\n",
    "x = np.array([4,3])\n",
    "result = 5*x + 3*x\n",
    "print(result)"
   ]
  },
  {
   "cell_type": "code",
   "execution_count": 28,
   "id": "31ff712a",
   "metadata": {},
   "outputs": [
    {
     "name": "stdout",
     "output_type": "stream",
     "text": [
      "[32 24]\n"
     ]
    }
   ],
   "source": [
    "# e \n",
    "x = np.array([4,3])\n",
    "result = 8*x\n",
    "print(result)"
   ]
  },
  {
   "cell_type": "code",
   "execution_count": 29,
   "id": "7c58b085",
   "metadata": {},
   "outputs": [
    {
     "name": "stdout",
     "output_type": "stream",
     "text": [
      "[12  9]\n"
     ]
    }
   ],
   "source": [
    "# f \n",
    "x = np.array([4,3])\n",
    "result = 4*x - x\n",
    "print(result)"
   ]
  },
  {
   "cell_type": "code",
   "execution_count": 31,
   "id": "4006fc01",
   "metadata": {},
   "outputs": [
    {
     "data": {
      "text/plain": [
       "1"
      ]
     },
     "execution_count": 31,
     "metadata": {},
     "output_type": "execute_result"
    }
   ],
   "source": [
    "# g \n",
    "x = np.array([4,3])\n",
    "x_transposed = x.T\n",
    "x_transposed.ndim"
   ]
  },
  {
   "cell_type": "code",
   "execution_count": 35,
   "id": "e711a654",
   "metadata": {},
   "outputs": [
    {
     "name": "stdout",
     "output_type": "stream",
     "text": [
      "[8 6]\n"
     ]
    }
   ],
   "source": [
    "# h \n",
    "x = np.array([4,3])\n",
    "result = x + x.T\n",
    "print(result)"
   ]
  },
  {
   "cell_type": "code",
   "execution_count": 37,
   "id": "946a09e4",
   "metadata": {},
   "outputs": [
    {
     "name": "stdout",
     "output_type": "stream",
     "text": [
      "5.0\n"
     ]
    }
   ],
   "source": [
    "# i\n",
    "x = np.array([4,3])\n",
    "norm = np.linalg.norm(x)\n",
    "print(norm)"
   ]
  },
  {
   "cell_type": "markdown",
   "id": "58567ec2",
   "metadata": {},
   "source": [
    "### 10.1.2"
   ]
  },
  {
   "cell_type": "code",
   "execution_count": 38,
   "id": "990a7323",
   "metadata": {},
   "outputs": [
    {
     "data": {
      "text/plain": [
       "1"
      ]
     },
     "execution_count": 38,
     "metadata": {},
     "output_type": "execute_result"
    }
   ],
   "source": [
    "# a\n",
    "v = np.array([3,7,0,11])\n",
    "v.ndim"
   ]
  },
  {
   "cell_type": "code",
   "execution_count": 39,
   "id": "279cbc03",
   "metadata": {},
   "outputs": [
    {
     "name": "stdout",
     "output_type": "stream",
     "text": [
      "[ 6 14  0 22]\n"
     ]
    }
   ],
   "source": [
    "# b\n",
    "v = np.array([3,7,0,11])\n",
    "result = 2*v\n",
    "print(result)"
   ]
  },
  {
   "cell_type": "code",
   "execution_count": 41,
   "id": "faf89c05",
   "metadata": {},
   "outputs": [
    {
     "name": "stdout",
     "output_type": "stream",
     "text": [
      "[21 49  0 77]\n"
     ]
    }
   ],
   "source": [
    "# c\n",
    "v = np.array([3,7,0,11])\n",
    "result = 5*v + 2*v\n",
    "print(result)"
   ]
  },
  {
   "cell_type": "code",
   "execution_count": 42,
   "id": "dbfb4869",
   "metadata": {},
   "outputs": [
    {
     "name": "stdout",
     "output_type": "stream",
     "text": [
      "[ 6 14  0 22]\n"
     ]
    }
   ],
   "source": [
    "# d \n",
    "v = np.array([3,7,0,11])\n",
    "result = 4*v - 2*v\n",
    "print(result)"
   ]
  },
  {
   "cell_type": "code",
   "execution_count": 45,
   "id": "0266a2f9",
   "metadata": {},
   "outputs": [
    {
     "data": {
      "text/plain": [
       "1"
      ]
     },
     "execution_count": 45,
     "metadata": {},
     "output_type": "execute_result"
    }
   ],
   "source": [
    "# e \n",
    "v = np.array([3,7,0,11])\n",
    "v_transposed = v.T\n",
    "v_transposed.ndim"
   ]
  },
  {
   "cell_type": "code",
   "execution_count": 46,
   "id": "193485ce",
   "metadata": {},
   "outputs": [
    {
     "name": "stdout",
     "output_type": "stream",
     "text": [
      "13.379088160259652\n"
     ]
    }
   ],
   "source": [
    "# f \n",
    "v = np.array([3,7,0,11])\n",
    "norm = np.linalg.norm(v)\n",
    "print(norm)"
   ]
  },
  {
   "cell_type": "markdown",
   "id": "856297e0",
   "metadata": {},
   "source": [
    "### 10.1.3"
   ]
  },
  {
   "cell_type": "code",
   "execution_count": 52,
   "id": "764c4cd8",
   "metadata": {},
   "outputs": [
    {
     "name": "stdout",
     "output_type": "stream",
     "text": [
      "norm of v1:\n",
      " 7.14142842854285\n",
      "result of v1 - v2:\n",
      " [2 0 0 4]\n",
      "II v1 - v2 II =\n",
      " 4.47213595499958\n"
     ]
    }
   ],
   "source": [
    "v1 = np.array([4,3,1,5])\n",
    "v2 = np.array([2,3,1,1])\n",
    "\n",
    "# a\n",
    "norm = np.linalg.norm(v1)\n",
    "print(\"norm of v1:\\n\", norm)\n",
    "\n",
    "# b \n",
    "result = v1 - v2\n",
    "print(\"result of v1 - v2:\\n\", result)\n",
    "norm_result = np.linalg.norm(result)\n",
    "print(\"II v1 - v2 II =\\n\", norm_result)\n",
    "\n"
   ]
  },
  {
   "cell_type": "markdown",
   "id": "75c98984-1f88-4df1-b850-d2466de444a5",
   "metadata": {},
   "source": [
    "### Solve all the exercises, except 10.2.4, in chapter 10.2 in the book \"Matematik för yrkeshögskolan\". "
   ]
  },
  {
   "cell_type": "markdown",
   "id": "65371610-16e1-48b2-b7fb-65e49002608a",
   "metadata": {},
   "source": [
    "### 10.2.1"
   ]
  },
  {
   "cell_type": "code",
   "execution_count": 55,
   "id": "79183539",
   "metadata": {},
   "outputs": [],
   "source": [
    "A = np.array([[2, 1, -1],\n",
    "              [1, -1, 1]])\n",
    "\n",
    "B = np.array([[4, -2, 1],\n",
    "              [2, -4,-2]])\n",
    "\n",
    "C = np.array([[1, 2],\n",
    "              [2, 1]])\n",
    "\n",
    "D = np.array([[3, 4],\n",
    "              [4, 3]])\n",
    "\n",
    "E = np.array([[1],\n",
    "              [2]])\n",
    "\n",
    "I = np.array([[1, 0],\n",
    "              [0, 1]])"
   ]
  },
  {
   "cell_type": "code",
   "execution_count": 56,
   "id": "d5e5bbe9",
   "metadata": {},
   "outputs": [
    {
     "name": "stdout",
     "output_type": "stream",
     "text": [
      "[[ 4  2 -2]\n",
      " [ 2 -2  2]]\n"
     ]
    }
   ],
   "source": [
    "# a\n",
    "result_A = 2*A\n",
    "print(result_A)"
   ]
  },
  {
   "cell_type": "code",
   "execution_count": 57,
   "id": "61996d51",
   "metadata": {},
   "outputs": [
    {
     "name": "stdout",
     "output_type": "stream",
     "text": [
      "[[ 0 -4  3]\n",
      " [ 0 -2 -4]]\n"
     ]
    }
   ],
   "source": [
    "# b \n",
    "result_B = B - 2*A\n",
    "print(result_B)"
   ]
  },
  {
   "cell_type": "code",
   "execution_count": 58,
   "id": "97dfd891",
   "metadata": {},
   "outputs": [
    {
     "name": "stdout",
     "output_type": "stream",
     "text": [
      "[[ 1  4]\n",
      " [ 2 -1]]\n"
     ]
    }
   ],
   "source": [
    "# c\n",
    "result_C = 3*C - 2*E\n",
    "print(result_C)"
   ]
  },
  {
   "cell_type": "code",
   "execution_count": 59,
   "id": "9f96b539",
   "metadata": {},
   "outputs": [
    {
     "name": "stdout",
     "output_type": "stream",
     "text": [
      "[[3 2]\n",
      " [2 3]]\n"
     ]
    }
   ],
   "source": [
    "# d\n",
    "result_D = 2*D - 3*C\n",
    "print(result_D)"
   ]
  },
  {
   "cell_type": "code",
   "execution_count": 60,
   "id": "55db3fe2",
   "metadata": {},
   "outputs": [
    {
     "name": "stdout",
     "output_type": "stream",
     "text": [
      "[[ 9 12]\n",
      " [12  9]]\n"
     ]
    }
   ],
   "source": [
    "# e \n",
    "result_E = D.T + 2*D\n",
    "print(result_E)"
   ]
  },
  {
   "cell_type": "code",
   "execution_count": 61,
   "id": "b000179a",
   "metadata": {},
   "outputs": [
    {
     "name": "stdout",
     "output_type": "stream",
     "text": [
      "[[-4 -4]\n",
      " [-4 -4]]\n"
     ]
    }
   ],
   "source": [
    "# f \n",
    "result_F = 2*C.T - 2*D.T\n",
    "print(result_F)"
   ]
  },
  {
   "cell_type": "code",
   "execution_count": null,
   "id": "c4485e90",
   "metadata": {},
   "outputs": [],
   "source": [
    "# g\n",
    "result_G = A.T - B\n",
    "print(result_G)\n",
    "\n",
    "# returns error due to dim missmatch = not defined"
   ]
  },
  {
   "cell_type": "code",
   "execution_count": null,
   "id": "e71d21d0",
   "metadata": {},
   "outputs": [],
   "source": [
    "# h\n",
    "result_H = A @ C\n",
    "print(result_H)\n",
    "\n",
    "# returns error due to dim missmatch = not defined"
   ]
  },
  {
   "cell_type": "code",
   "execution_count": 68,
   "id": "c51ffba7",
   "metadata": {},
   "outputs": [
    {
     "name": "stdout",
     "output_type": "stream",
     "text": [
      "[[11 10]\n",
      " [10 11]]\n"
     ]
    }
   ],
   "source": [
    "# i\n",
    "result_I = C @ D \n",
    "print(result_I)"
   ]
  },
  {
   "cell_type": "code",
   "execution_count": 69,
   "id": "277772f6",
   "metadata": {},
   "outputs": [
    {
     "name": "stdout",
     "output_type": "stream",
     "text": [
      "[[  8 -10  -3]\n",
      " [ 10  -8   0]]\n"
     ]
    }
   ],
   "source": [
    "# j\n",
    "result_J = C @ B\n",
    "print(result_J)"
   ]
  },
  {
   "cell_type": "code",
   "execution_count": 70,
   "id": "a4195e88",
   "metadata": {},
   "outputs": [
    {
     "name": "stdout",
     "output_type": "stream",
     "text": [
      "[[1 2]\n",
      " [2 1]]\n"
     ]
    }
   ],
   "source": [
    "# k\n",
    "result_K = C @ I\n",
    "print(result_K)"
   ]
  },
  {
   "cell_type": "code",
   "execution_count": 71,
   "id": "8edb9405",
   "metadata": {},
   "outputs": [
    {
     "name": "stdout",
     "output_type": "stream",
     "text": [
      "[[5 2]\n",
      " [7 4]]\n"
     ]
    }
   ],
   "source": [
    "# l\n",
    "result_L = A @ B.T\n",
    "print(result_L)"
   ]
  },
  {
   "cell_type": "markdown",
   "id": "bad89eda",
   "metadata": {},
   "source": [
    "### 10.2.2"
   ]
  },
  {
   "cell_type": "code",
   "execution_count": 73,
   "id": "47223bc5",
   "metadata": {},
   "outputs": [
    {
     "name": "stdout",
     "output_type": "stream",
     "text": [
      "[[29 26]\n",
      " [26 42]]\n"
     ]
    }
   ],
   "source": [
    "A = np.array([[2, 3, 4],\n",
    "              [5, 4, 1]])\n",
    "\n",
    "result = A @ A.T\n",
    "print(result)"
   ]
  },
  {
   "cell_type": "markdown",
   "id": "a21aa71c",
   "metadata": {},
   "source": [
    "### 10.2.3"
   ]
  },
  {
   "cell_type": "code",
   "execution_count": 78,
   "id": "0c7bb7f7",
   "metadata": {},
   "outputs": [
    {
     "name": "stdout",
     "output_type": "stream",
     "text": [
      "[[ 4  7]\n",
      " [ 8 14]]\n",
      "\n",
      "[[ 4  7]\n",
      " [ 8 14]]\n",
      "\n",
      "AB = AC: True\n",
      "B = C: False\n"
     ]
    }
   ],
   "source": [
    "A = np.array([[1, 2],\n",
    "              [2, 4]])\n",
    "\n",
    "B = np.array([[2, 1],\n",
    "              [1, 3]])\n",
    "\n",
    "C = np.array([[4, 3],\n",
    "              [0, 2]])\n",
    "\n",
    "AB = A @ B\n",
    "AC = A @ C\n",
    "\n",
    "equal_check = np.array_equal(AB, AC)\n",
    "print(AB)\n",
    "print()\n",
    "print(AC)\n",
    "print()\n",
    "print(\"AB = AC:\", equal_check)\n",
    "\n",
    "not_equal = np.array_equal(B, C)\n",
    "print(\"B = C:\", not_equal)"
   ]
  },
  {
   "cell_type": "markdown",
   "id": "6a4a524f",
   "metadata": {},
   "source": [
    "### Copies and Views\n",
    "Read the following link: https://numpy.org/doc/stable/user/basics.copies.html"
   ]
  },
  {
   "cell_type": "markdown",
   "id": "6cbbeaf7",
   "metadata": {},
   "source": [
    "**Basic indexing creates a view, How can you check if v1 and v2 is a view or copy? If you change the last element in v2 to 123, will the last element in v1 be changed? Why?**"
   ]
  },
  {
   "cell_type": "code",
   "execution_count": 88,
   "id": "5b9ef4df",
   "metadata": {},
   "outputs": [
    {
     "name": "stdout",
     "output_type": "stream",
     "text": [
      "[0 1 2 3]\n",
      "[2 3]\n"
     ]
    }
   ],
   "source": [
    "v1 = np.arange(4)\n",
    "v2 = v1[-2:]\n",
    "print(v1)\n",
    "print(v2)"
   ]
  },
  {
   "cell_type": "code",
   "execution_count": 103,
   "id": "d2440489",
   "metadata": {},
   "outputs": [
    {
     "name": "stdout",
     "output_type": "stream",
     "text": [
      "None\n",
      "[0 1 2 3]\n"
     ]
    }
   ],
   "source": [
    "# The base attribute of a view returns the original array while it returns None for a copy.\n",
    "print(v1.base)\n",
    "print(v2.base)"
   ]
  },
  {
   "cell_type": "code",
   "execution_count": 104,
   "id": "c8752807",
   "metadata": {},
   "outputs": [
    {
     "name": "stdout",
     "output_type": "stream",
     "text": [
      "[  0   1   2 123]\n",
      "[  0   1   2 123]\n"
     ]
    }
   ],
   "source": [
    "# The last element in v1 will be changed aswell since v2 is a view, meaning they share the same data buffer.\n",
    "v2[-1] = 123\n",
    "print(v1)\n",
    "print(v2)"
   ]
  },
  {
   "cell_type": "markdown",
   "id": "8a7d49b9",
   "metadata": {},
   "source": [
    "### Above statement is true"
   ]
  }
 ],
 "metadata": {
  "kernelspec": {
   "display_name": "Python 3 (ipykernel)",
   "language": "python",
   "name": "python3"
  },
  "language_info": {
   "codemirror_mode": {
    "name": "ipython",
    "version": 3
   },
   "file_extension": ".py",
   "mimetype": "text/x-python",
   "name": "python",
   "nbconvert_exporter": "python",
   "pygments_lexer": "ipython3",
   "version": "3.12.4"
  }
 },
 "nbformat": 4,
 "nbformat_minor": 5
}
